{
 "cells": [
  {
   "cell_type": "code",
   "execution_count": null,
   "id": "d4b4fb14",
   "metadata": {},
   "outputs": [],
   "source": [
    "# Wari Deborah Kaizer, DE.2023/0214"
   ]
  },
  {
   "cell_type": "code",
   "execution_count": null,
   "id": "d0c7c74c",
   "metadata": {},
   "outputs": [],
   "source": [
    "import pandas as pd\n",
    "import matplotlib.pyplot as plt\n",
    "import seaborn as sns\n",
    "\n",
    "# Load dataset\n",
    "df = pd.read_csv(\"housing_sales_dataset.csv\")\n",
    "\n",
    "# Display the first few rows\n",
    "df.head()"
   ]
  },
  {
   "cell_type": "code",
   "execution_count": null,
   "id": "9b52b71d",
   "metadata": {},
   "outputs": [],
   "source": [
    "plt.figure(figsize=(10, 6))\n",
    "sns.histplot(df['Sale_Price'], bins=30, kde=True)\n",
    "plt.title('Distribution of Sale Prices')\n",
    "plt.xlabel('Sale Price')\n",
    "plt.ylabel('Frequency')\n",
    "plt.show()"
   ]
  },
  {
   "cell_type": "code",
   "execution_count": null,
   "id": "6cfc995f",
   "metadata": {},
   "outputs": [],
   "source": [
    "plt.figure(figsize=(10, 6))\n",
    "sns.countplot(data=df, x='House_Type', order=df['House_Type'].value_counts().index)\n",
    "plt.title('Number of Houses by Type')\n",
    "plt.xlabel('House Type')\n",
    "plt.ylabel('Count')\n",
    "plt.xticks(rotation=45)\n",
    "plt.show()"
   ]
  },
  {
   "cell_type": "code",
   "execution_count": null,
   "id": "9f3b0f8b",
   "metadata": {},
   "outputs": [],
   "source": [
    "plt.figure(figsize=(10, 6))\n",
    "sns.boxplot(data=df, x='House_Type', y='Sale_Price')\n",
    "plt.title('Sale Price by House Type')\n",
    "plt.xlabel('House Type')\n",
    "plt.ylabel('Sale Price')\n",
    "plt.xticks(rotation=45)\n",
    "plt.show()"
   ]
  },
  {
   "cell_type": "code",
   "execution_count": null,
   "id": "3b15991c",
   "metadata": {},
   "outputs": [],
   "source": [
    "plt.figure(figsize=(10, 6))\n",
    "sns.scatterplot(data=df, x='Square_Feet', y='Sale_Price', hue='House_Type')\n",
    "plt.title('Square Feet vs Sale Price')\n",
    "plt.xlabel('Square Feet')\n",
    "plt.ylabel('Sale Price')\n",
    "plt.show()"
   ]
  },
  {
   "cell_type": "code",
   "execution_count": null,
   "id": "bbdac17b",
   "metadata": {},
   "outputs": [],
   "source": [
    "plt.figure(figsize=(10, 8))\n",
    "sns.heatmap(df[['Bedrooms', 'Bathrooms', 'Square_Feet', 'Year_Built', 'Sale_Price']].corr(), annot=True, cmap='coolwarm')\n",
    "plt.title('Correlation Heatmap')\n",
    "plt.show()"
   ]
  },
  {
   "cell_type": "code",
   "execution_count": null,
   "id": "f9c7f2aa",
   "metadata": {},
   "outputs": [],
   "source": [
    "plt.figure(figsize=(12, 6))\n",
    "sns.boxplot(data=df, x='City', y='Sale_Price')\n",
    "plt.title('Sale Price by City')\n",
    "plt.xlabel('City')\n",
    "plt.ylabel('Sale Price')\n",
    "plt.xticks(rotation=45)\n",
    "plt.show()"
   ]
  },
  {
   "cell_type": "code",
   "execution_count": null,
   "id": "8ae3782e",
   "metadata": {},
   "outputs": [],
   "source": [
    "plt.figure(figsize=(10, 6))\n",
    "sns.countplot(data=df, x='Condition', order=df['Condition'].value_counts().index)\n",
    "plt.title('Number of Sales by House Condition')\n",
    "plt.xlabel('Condition')\n",
    "plt.ylabel('Count')\n",
    "plt.show()"
   ]
  },
  {
   "cell_type": "code",
   "execution_count": null,
   "id": "447033bb",
   "metadata": {},
   "outputs": [],
   "source": [
    "avg_price_year = df.groupby(df['Sale_Date'].astype(str).str[:4])['Sale_Price'].mean().sort_index()\n",
    "plt.figure(figsize=(10, 6))\n",
    "avg_price_year.plot(kind='line', marker='o')\n",
    "plt.title('Average Sale Price Per Year')\n",
    "plt.xlabel('Year')\n",
    "plt.ylabel('Average Sale Price')\n",
    "plt.grid(True)\n",
    "plt.show()"
   ]
  },
  {
   "cell_type": "code",
   "execution_count": null,
   "id": "f74567d9",
   "metadata": {},
   "outputs": [],
   "source": [
    "plt.figure(figsize=(8, 6))\n",
    "bed_bath = pd.crosstab(df['Bedrooms'], df['Bathrooms'])\n",
    "sns.heatmap(bed_bath, annot=True, fmt=\"d\", cmap=\"YlGnBu\")\n",
    "plt.title('Bedrooms vs Bathrooms')\n",
    "plt.xlabel('Bathrooms')\n",
    "plt.ylabel('Bedrooms')\n",
    "plt.show()"
   ]
  }
 ],
 "metadata": {},
 "nbformat": 4,
 "nbformat_minor": 5
}